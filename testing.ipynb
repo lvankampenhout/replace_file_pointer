{
 "cells": [
  {
   "cell_type": "code",
   "execution_count": 1,
   "metadata": {},
   "outputs": [],
   "source": [
    "import os, sys\n",
    "\n",
    "_LIBDIR = os.path.join(\"/Users/leo/workspace/cesm/cesm2.1.3/cime\", \"scripts\", \"Tools\")\n",
    "sys.path.append(_LIBDIR)\n",
    "\n",
    "from standard_script_setup          import *\n",
    "from CIME.case import Case"
   ]
  },
  {
   "cell_type": "code",
   "execution_count": null,
   "metadata": {},
   "outputs": [],
   "source": []
  },
  {
   "cell_type": "code",
   "execution_count": 2,
   "metadata": {},
   "outputs": [],
   "source": [
    "case =  Case('/Users/leo/Downloads/POP_JRA_control-fwtest', read_only=False)"
   ]
  },
  {
   "cell_type": "code",
   "execution_count": 4,
   "metadata": {},
   "outputs": [],
   "source": [
    "from update_FW_file_pointers import *\n",
    "\n",
    "year = current_year_in_case(case)\n",
    "\n",
    "update_user_nl_pop(year)"
   ]
  },
  {
   "cell_type": "code",
   "execution_count": null,
   "metadata": {},
   "outputs": [],
   "source": []
  }
 ],
 "metadata": {
  "kernelspec": {
   "display_name": "Python 3",
   "language": "python",
   "name": "python3"
  },
  "language_info": {
   "codemirror_mode": {
    "name": "ipython",
    "version": 3
   },
   "file_extension": ".py",
   "mimetype": "text/x-python",
   "name": "python",
   "nbconvert_exporter": "python",
   "pygments_lexer": "ipython3",
   "version": "3.6.10"
  }
 },
 "nbformat": 4,
 "nbformat_minor": 4
}
